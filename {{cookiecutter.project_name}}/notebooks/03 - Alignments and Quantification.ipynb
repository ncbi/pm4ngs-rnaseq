{
 "cells": [
  {
   "cell_type": "code",
   "execution_count": null,
   "metadata": {},
   "outputs": [],
   "source": [
    "%run ../config/init.py"
   ]
  },
  {
   "cell_type": "markdown",
   "metadata": {},
   "source": [
    "### Creating results folders"
   ]
  },
  {
   "cell_type": "code",
   "execution_count": null,
   "metadata": {},
   "outputs": [],
   "source": [
    "data_dir = os.path.join(RESULTS, DATASET, 'trimmomatic')\n",
    "result_dir = working_dir(os.path.join(RESULTS, DATASET, 'alignments'))\n",
    "sample_table_file = os.path.join(DATA, DATASET, 'sample_table.csv')\n",
    "sample_table = pandas.read_csv(sample_table_file, keep_default_na=False)\n",
    "sample_table.head()"
   ]
  },
  {
   "cell_type": "markdown",
   "source": [
    "### Creating Genome indexes if they don't exists"
   ],
   "metadata": {
    "collapsed": false,
    "pycharm": {
     "name": "#%% md\n"
    }
   }
  },
  {
   "cell_type": "code",
   "execution_count": null,
   "outputs": [],
   "source": [
    "if not os.path.exists(GENOME):\n",
    "    working_dir(GENOME)\n",
    "    !curl -o {GENOME_NAME}.tar.gz https://ftp.ncbi.nlm.nih.gov/pub/pm4ngs/resources/{GENOME_NAME}.tar.gz\n",
    "    !tar xzfv {GENOME_NAME}.tar.gz --strip 1\n",
    "    !rm {GENOME_NAME}.tar.gz\n",
    "    working_dir(ALIGNER_INDEX)\n",
    "    log_file = 'star_index.log'\n",
    "    index_cmd = '{0} {1}/star/star-index.cwl --runThreadN {2} --genomeDir . '.format(CWLRUNNER, CWLTOOLS, 32)\n",
    "    index_cmd += '--genomeFastaFiles ../genome.fa  --sjdbGTFfile ../genes.gtf > index.log 2>&1 &'\n",
    "    run_command(index_cmd)"
   ],
   "metadata": {
    "collapsed": false,
    "pycharm": {
     "name": "#%%\n"
    }
   }
  },
  {
   "cell_type": "code",
   "execution_count": null,
   "outputs": [],
   "source": [
    "if os.path.exists('index.log'):\n",
    "    check_cwl_command_log('index.log')"
   ],
   "metadata": {
    "collapsed": false,
    "pycharm": {
     "name": "#%%\n"
    }
   }
  },
  {
   "cell_type": "markdown",
   "metadata": {},
   "source": [
    "### Processing samples"
   ]
  },
  {
   "cell_type": "code",
   "execution_count": null,
   "metadata": {
    "pycharm": {
     "name": "#%%\n"
    }
   },
   "outputs": [],
   "source": [
    "working_dir(result_dir)\n",
    "log_file = 'alignment.log'\n",
    "\n",
    "alignment_yml = {\n",
    "{% if cookiecutter.organism == 'human' %}\n",
    "    'ramMaxRSeQC': 32000,\n",
    "    'ramMaxSTAR': 32000,\n",
    "{% else %}\n",
    "    'ramMaxRSeQC': 16000,\n",
    "    'ramMaxSTAR': 16000,\n",
    "{% endif %}\n",
    "{% if cookiecutter.sequencing_technology == 'paired-end' %}\n",
    "    'p': True,\n",
    "{% endif %}\n",
    "    'threads': 16,\n",
    "    'genomeDir': {'class': 'Directory', 'path': ALIGNER_INDEX },\n",
    "    'genome_bed': {'class': 'File', 'path': GENOME_BED },\n",
    "    'genome_gtf': {'class': 'File', 'path': GENOME_GTF },\n",
    "    'q': 255,\n",
    "    'reads': []\n",
    "}\n",
    "\n",
    "{% if cookiecutter.sequencing_technology == 'paired-end' %}\n",
    "for i, r in sample_table.iterrows():\n",
    "    files = r['file'].split('|')\n",
    "    r1 = os.path.join(DATA, DATASET, files[0])\n",
    "    r2 = os.path.join(DATA, DATASET, files[1])\n",
    "    if not os.path.exists(files[0].replace('_1.fastq.gz', '_genes.out.gz')):\n",
    "        alignment_yml['reads'].append([\n",
    "            {'class': 'File', 'path': r1},\n",
    "            {'class': 'File', 'path': r2}])\n",
    "{% else %}\n",
    "for i, r in sample_table.iterrows():\n",
    "    f = os.path.join(DATA, DATASET, r['file'])\n",
    "    if not os.path.exists(r['file'].replace('.fastq.gz', '_genes.out.gz')):\n",
    "        alignment_yml['reads'].append([\n",
    "            {'class': 'File', 'path': f}])\n",
    "{% endif %}\n",
    "\n",
    "if alignment_yml['reads']:\n",
    "    write_to_yaml(alignment_yml, 'alignment.yml')  \n",
    "    cmd_header = '{} {}/RNA-Seq/rnaseq-alignment-quantification.cwl alignment.yml > {} 2>&1 &'.format(\n",
    "        CWLRUNNER, CWLWORKFLOWS, log_file)\n",
    "    run_command(cmd_header)\n",
    "    "
   ]
  },
  {
   "cell_type": "markdown",
   "source": [
    "### Checking command output\n",
    "Execute next cell until it prints: **Run completed**"
   ],
   "metadata": {
    "collapsed": false,
    "pycharm": {
     "name": "#%% md\n"
    }
   }
  },
  {
   "cell_type": "code",
   "execution_count": null,
   "outputs": [],
   "source": [
    "check_cwl_command_log(log_file)"
   ],
   "metadata": {
    "collapsed": false,
    "pycharm": {
     "name": "#%%\n"
    }
   }
  },
  {
   "cell_type": "markdown",
   "source": [
    "### Creates TPM and reads matrices for genes"
   ],
   "metadata": {
    "collapsed": false,
    "pycharm": {
     "name": "#%% md\n"
    }
   }
  },
  {
   "cell_type": "code",
   "execution_count": null,
   "outputs": [],
   "source": [
    "data = {}\n",
    "columns = ['ExonTPM', 'ExonReads']\n",
    "output_suffix = \"_sorted_genes.out.gz\"\n",
    "files = [ f for ds, df, files in os.walk('./') for f in files if f.endswith(output_suffix)]\n",
    "for column in columns:\n",
    "    print(column)\n",
    "    data[column] = pandas.DataFrame()\n",
    "    for f in files:\n",
    "        s = f.replace(output_suffix, '')\n",
    "        df = pandas.read_csv(f, sep='\\t')\n",
    "        df = df[['Gene_Id', 'Chr', 'Start', 'End', 'ExonLength', column]]\n",
    "        df = df.rename(index=str, columns={column: s})\n",
    "        if data[column].empty:\n",
    "            data[column] = df\n",
    "        else:\n",
    "            data[column] = data[column].merge(df, on=['Gene_Id', 'Chr', 'Start', 'End', 'ExonLength'], how='outer')\n",
    "    print('Data columns: ' + str(len(data[column].columns)))\n",
    "    print('Data rows: ' + str(len(data[column])))\n",
    "    \n",
    "    # Printing TSV matrices    \n",
    "    data[column]['Gene_Chr_Start'] = data[column]['Gene_Id'] + '_' + data[column][\"Chr\"] + '_' + data[column][\"Start\"].map(str)\n",
    "    data[column] = data[column].drop(['Gene_Id'], axis=1)\n",
    "    cols = data[column].columns.tolist()\n",
    "    cols = cols[-1:] + cols[:-1]\n",
    "    data[column] = data[column][cols]\n",
    "    data[column].to_csv( column + '.tsv', sep='\\t', index=False, na_rep='0')"
   ],
   "metadata": {
    "collapsed": false,
    "pycharm": {
     "name": "#%%\n"
    }
   }
  },
  {
   "cell_type": "markdown",
   "source": [
    "### Plotting Exon TPM and read count per sample"
   ],
   "metadata": {
    "collapsed": false,
    "pycharm": {
     "name": "#%% md\n"
    }
   }
  },
  {
   "cell_type": "code",
   "execution_count": null,
   "outputs": [],
   "source": [
    "columns = ['ExonTPM', 'ExonReads']\n",
    "output_suffix = \"_sorted_genes.out.gz\"\n",
    "files = [ f for ds, df, files in os.walk('./') for f in files if f.endswith(output_suffix) ]\n",
    "files.sort()\n",
    "for column in columns:    \n",
    "    plt.figure(figsize=(10, 12)) \n",
    "    toPlot = []\n",
    "    for f in files:\n",
    "        s = f.replace(output_suffix, '')\n",
    "        if s in data[column]:\n",
    "            for r in data[column][s]:\n",
    "                toPlot.append([r, s])\n",
    "    d = pandas.DataFrame(toPlot, columns=[column, 'Sample'])\n",
    "    ax = sns.boxplot(y='Sample', x=column, data=d, orient=\"h\", palette=\"Set2\")\n"
   ],
   "metadata": {
    "collapsed": false,
    "pycharm": {
     "name": "#%% \n"
    }
   }
  }
 ],
 "metadata": {
  "kernelspec": {
   "display_name": "Python 3",
   "language": "python",
   "name": "python3"
  },
  "language_info": {
   "codemirror_mode": {
    "name": "ipython",
    "version": 3
   },
   "file_extension": ".py",
   "mimetype": "text/x-python",
   "name": "python",
   "nbconvert_exporter": "python",
   "pygments_lexer": "ipython3",
   "version": "3.7.3"
  }
 },
 "nbformat": 4,
 "nbformat_minor": 2
}