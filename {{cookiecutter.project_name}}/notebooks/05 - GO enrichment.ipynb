{
 "cells": [
  {
   "cell_type": "code",
   "execution_count": null,
   "metadata": {},
   "outputs": [],
   "source": [
    "%run ../config/init.py"
   ]
  },
  {
   "cell_type": "markdown",
   "metadata": {},
   "source": [
    "### Creating results folders"
   ]
  },
  {
   "cell_type": "code",
   "execution_count": null,
   "metadata": {
    "pycharm": {
     "name": "#%%\n"
    }
   },
   "outputs": [],
   "source": [
    "data_dir = os.path.join(RESULTS, DATASET, 'dga')\n",
    "result_dir = working_dir(os.path.join(RESULTS, DATASET, 'go'))\n",
    "sample_table_file = os.path.join(DATA, DATASET, 'sample_table.csv')\n",
    "sample_table = pandas.read_csv(sample_table_file, keep_default_na=False)\n",
    "sample_table.head()"
   ]
  },
  {
   "cell_type": "markdown",
   "metadata": {
    "pycharm": {
     "name": "#%% md\n"
    }
   },
   "source": [
    "### Creating comparisons\n",
    "In this cell, an array with all combinations of **conditions** is created.  \n",
    " \n",
    "If you just want to explore a set of comparisons remove this cell and add the **comparisons** list manually. \n",
    "```\n",
    "comparisons = [\n",
    "    ['cond1', 'cond2'],\n",
    "    ['cond2', 'cond3']\n",
    "]\n",
    "``` "
   ]
  },
  {
   "cell_type": "code",
   "execution_count": null,
   "metadata": {
    "pycharm": {
     "name": "#%%\n"
    }
   },
   "outputs": [],
   "source": [
    "comparisons = []\n",
    "for s in itertools.combinations(sample_table['condition'].unique(), 2):\n",
    "    comparisons.append(list(s)) \n",
    "comparisons"
   ]
  },
  {
   "cell_type": "markdown",
   "metadata": {},
   "source": [
    "### Loading Gene2GO database from NCBI FTP\n",
    "This database is created with the GO-enrichment python package: https://gitlab.com/r78v10a07/goenrichment\n",
    "\n",
    "There are pre-computed database at: ftp://ftp.ncbi.nlm.nih.gov/pub/goenrichment\n",
    "\n",
    "### Loading Gene2GO database for human"
   ]
  },
  {
   "cell_type": "code",
   "execution_count": null,
   "metadata": {
    "pycharm": {
     "name": "#%%\n"
    }
   },
   "outputs": [],
   "source": [
    "goenrichDB = \"ftp://ftp.ncbi.nlm.nih.gov/pub/goenrichment/goenrichDB_{% cookiecutter.organism %}.pickle\"\n",
    "godb = load_goenrichdb(goenrichDB)\n",
    "print('There are %d alternative ids in database' % (len(godb['alt_id'])))\n",
    "print('There are %d GO terms' % (len(godb['graph'].nodes())))\n",
    "print('There are %d genes in database' % (godb['M']))"
   ]
  },
  {
   "cell_type": "markdown",
   "metadata": {},
   "source": [
    "### GO enrichment parameters"
   ]
  },
  {
   "cell_type": "code",
   "execution_count": null,
   "metadata": {
    "pycharm": {
     "name": "#%%\n"
    }
   },
   "outputs": [],
   "source": [
    "min_category_depth=4\n",
    "min_category_size=3\n",
    "max_category_size=500"
   ]
  },
  {
   "cell_type": "markdown",
   "metadata": {},
   "source": [
    "### GO enrichment analysis"
   ]
  },
  {
   "cell_type": "code",
   "execution_count": null,
   "metadata": {
    "pycharm": {
     "name": "#%%\n"
    }
   },
   "outputs": [],
   "source": [
    "for c in comparisons:\n",
    "    print('Processing %s vs %s' % (c[0], c[1]))\n",
    "    dga_file = os.path.join(data_dir, 'condition_{0}_vs_{1}_union.csv'.format(c[0], c[1]))\n",
    "    if os.path.exists(dga_file):\n",
    "        dga_df = pandas.read_csv(dga_file)\n",
    "        dga_df[['Gene_Id', 'Chr', 'start']] = dga_df['Gene_Id'].str.split('_', n=2, expand = True)\n",
    "        query = set(dga_df[(dga_df['FDR'] <= fdr)&(dga_df['logFC'] >= fc)]['Gene_Id'].tolist())\n",
    "        if len(query) > 0:\n",
    "            print('\\tProcessing {0} over expressed gene list'.format(len(query)))\n",
    "            over_df = calculate(godb, query, fdr, min_category_depth, min_category_size, max_category_size)\n",
    "            over_df = over_df[over_df['q'] <= fdr]\n",
    "        else:\n",
    "            over_df = pandas.DataFrame(columns=['term', 'name', 'namespace', 'depth', 'k', 'n', 'p', 'q', '-1.0log(q)', 'accepted'])\n",
    "        \n",
    "        query = set(dga_df[(dga_df['FDR'] <= fdr)&(dga_df['logFC'] <= -1.0 * fc)]['Gene_Id'].tolist())\n",
    "        if len(query) > 0:\n",
    "            print('\\tProcessing {0} under expressed gene list'.format(len(query)))\n",
    "            under_df = calculate(godb, query, fdr, min_category_depth, min_category_size, max_category_size)\n",
    "            under_df = under_df[under_df['q'] <= fdr]\n",
    "        else:\n",
    "            under_df = pandas.DataFrame(columns=['term', 'name', 'namespace', 'depth', 'k', 'n', 'p', 'q', '-1.0log(q)', 'accepted'])\n",
    "        \n",
    "        if not over_df.empty and not under_df.empty:\n",
    "            over_df = over_df[~over_df['term'].isin(under_df['term'])].sort_values('q')\n",
    "            under_df = under_df[~under_df['term'].isin(over_df['term'])].sort_values('q')\n",
    "            \n",
    "        union_set = set().union(over_df['namespace'].unique(), under_df['namespace'].unique())\n",
    "        if union_set:\n",
    "            for d in union_set: \n",
    "                print('\\tGO namespace: ' + d)\n",
    "                df1 = over_df[over_df['namespace'] == d]\n",
    "                file_name = 'go_over_{0}_{1}_vs_{2}_union.csv'.format(d, c[0], c[1])\n",
    "                df1.to_csv(file_name, index=None)\n",
    "                print('\\t\\tGO terms for genes over expressed: %d' % len(df1))\n",
    "                df2 = under_df[under_df['namespace'] == d]\n",
    "                file_name = 'go_under_{0}_{1}_vs_{2}_union.csv'.format(d, c[0], c[1])\n",
    "                df2.to_csv(file_name, index=None)\n",
    "                print('\\t\\tGO terms for genes under expressed: %d' % len(df2))\n",
    "                \n",
    "                if len(df1) > 25:\n",
    "                    df1 = df1.head(25)\n",
    "                if len(df2) > 25:\n",
    "                    df2 = df2.head(25)\n",
    "                df1 = df1.reset_index(drop=True)\n",
    "                df1['color'] = 'red'    \n",
    "                df2 = df2.reset_index(drop=True)\n",
    "                df2['color'] = 'blue'\n",
    "                df = pandas.concat([df1, df2])\n",
    "                df = df.sort_values('q')\n",
    "                \n",
    "                plt.subplots(figsize=(20,18))\n",
    "                objects = df['name'].tolist()\n",
    "                x_pos = np.arange(len(objects))\n",
    "                counts = df['-1.0log(q)'].tolist()\n",
    "                colors = df['color'].tolist()\n",
    "                plt.barh(x_pos, counts, align='center', color=colors)\n",
    "                plt.yticks(x_pos, objects)\n",
    "                plt.xlabel('-1.0log(q)')\n",
    "                plt.title('Top 50 GO terms for: ' + d)\n",
    "                red_patch = mpatches.Patch(color='red', label='GO term from over expressed genes')\n",
    "                blue_patch = mpatches.Patch(color='blue', label='GO term from under expressed genes')\n",
    "                plt.legend(handles=[red_patch, blue_patch], prop={'size': 22})\n",
    "                file_name = 'go_{0}_{1}_vs_{2}_union.png'.format(d, c[0], c[1])\n",
    "                plt.savefig(file_name, bbox_inches = \"tight\")\n",
    "                plt.show()\n",
    "        else:\n",
    "            print('No differential GO terms were identified')"
   ]
  }
 ],
 "metadata": {
  "kernelspec": {
   "display_name": "Python 3",
   "language": "python",
   "name": "python3"
  },
  "language_info": {
   "codemirror_mode": {
    "name": "ipython",
    "version": 3
   },
   "file_extension": ".py",
   "mimetype": "text/x-python",
   "name": "python",
   "nbconvert_exporter": "python",
   "pygments_lexer": "ipython3",
   "version": "3.7.3"
  }
 },
 "nbformat": 4,
 "nbformat_minor": 1
}