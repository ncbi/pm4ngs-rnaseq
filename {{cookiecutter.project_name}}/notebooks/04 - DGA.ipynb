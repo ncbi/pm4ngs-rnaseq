{
 "cells": [
  {
   "cell_type": "code",
   "execution_count": null,
   "metadata": {
    "pycharm": {
     "name": "#%%\n"
    }
   },
   "outputs": [],
   "source": [
    "%run ../config/init.py"
   ]
  },
  {
   "cell_type": "markdown",
   "metadata": {},
   "source": [
    "### Creating results folders"
   ]
  },
  {
   "cell_type": "code",
   "execution_count": null,
   "outputs": [],
   "source": [
    "data_dir = os.path.join(RESULTS, DATASET, 'alignments')\n",
    "result_dir = working_dir(os.path.join(RESULTS, DATASET, 'dga'))\n",
    "matrix_file = os.path.join(data_dir, 'ExonReads.tsv')\n",
    "tpm_matrix_file = os.path.join(data_dir, 'ExonTPM.tsv')\n",
    "sample_table_file = os.path.join(DATA, DATASET, 'sample_table.csv')\n",
    "sample_table = pandas.read_csv(sample_table_file, keep_default_na=False)\n",
    "sample_table.head()"
   ],
   "metadata": {
    "collapsed": false,
    "pycharm": {
     "name": "#%%\n"
    }
   }
  },
  {
   "cell_type": "markdown",
   "metadata": {},
   "source": [
    "### Creating comparisons\n",
    "In this cell, an array with all combinations of **conditions** is created.  \n",
    " \n",
    "If you just want to explore a set of comparisons remove this cell and add the **comparisons** list manually. \n",
    "```\n",
    "comparisons = [\n",
    "    ['cond1', 'cond2'],\n",
    "    ['cond2', 'cond3']\n",
    "]\n",
    "``` "
   ]
  },
  {
   "cell_type": "code",
   "execution_count": null,
   "metadata": {
    "pycharm": {
     "name": "#%%\n"
    }
   },
   "outputs": [],
   "source": [
    "comparisons = []\n",
    "for s in itertools.combinations(sample_table['condition'].unique(), 2):\n",
    "    comparisons.append(list(s)) \n",
    "comparisons"
   ]
  },
  {
   "cell_type": "markdown",
   "metadata": {
    "pycharm": {
     "name": "#%% md\n"
    }
   },
   "source": [
    "### Executing Deseq2 and EdgeR workflows"
   ]
  },
  {
   "cell_type": "code",
   "execution_count": null,
   "metadata": {
    "pycharm": {
     "name": "#%%\n"
    }
   },
   "outputs": [],
   "source": [
    "log_suffix = 'dga.log'\n",
    "\n",
    "min_TPM = 1\n",
    "\n",
    "cmd_deseq2_header = '{0} {1}/R/deseq2-2conditions.cwl --factor {2} --matrix {3} --tpm_matrix {4} --gene_column Gene_Chr_Start --sample_column sample_name --fc {5} --fdr {6} --min_tpm {7} '.format(\n",
    "        CWLRUNNER, CWLTOOLS, sample_table_file, matrix_file, tpm_matrix_file, fc, fdr, min_TPM)\n",
    "cmd_edgeR_header = '{0} {1}/R/edgeR-2conditions.cwl --factor {2} --matrix {3} --tpm_matrix {4} --gene_column Gene_Chr_Start --sample_column sample_name --fc {5} --fdr {6} --gene_length_column ExonLength  --min_tpm {7} '.format(\n",
    "        CWLRUNNER, CWLTOOLS, sample_table_file, matrix_file, tpm_matrix_file, fc, fdr, min_TPM)\n",
    "\n",
    "for c in comparisons:\n",
    "    if not os.path.exists('condition_{0}_vs_{1}_deseq2.csv'.format(c[0], c[1])):\n",
    "        log_file = '{0}_vs_{1}_deseq2_{2}'.format(c[0], c[1], log_suffix)\n",
    "        cmd = '{0} --condition1 {1} --condition2 {2} > {3} 2>&1\\n'.format(cmd_deseq2_header, c[0], c[1], log_file)\n",
    "        run_command(cmd)\n",
    "        check_cwl_command_log(log_file)\n",
    "    if not os.path.exists('condition_{0}_vs_{1}_edgeR.csv'.format(c[0], c[1])):\n",
    "        log_file = '{0}_vs_{1}_edge_{2}'.format(c[0], c[1], log_suffix)\n",
    "        cmd = '{0} --condition1 {1} --condition2 {2} > {3} 2>&1\\n'.format(cmd_edgeR_header, c[0], c[1], log_file)\n",
    "        run_command(cmd)\n",
    "        check_cwl_command_log(log_file)\n"
   ]
  },
  {
   "cell_type": "markdown",
   "metadata": {},
   "source": [
    "### Creates TPM and reads matrices for genes"
   ]
  },
  {
   "cell_type": "code",
   "execution_count": null,
   "metadata": {
    "pycharm": {
     "name": "#%%\n"
    }
   },
   "outputs": [],
   "source": [
    "log_suffix_union = 'union.log'\n",
    "    \n",
    "cmd_volcano_header = '{0} {1}/R/volcano_plot.cwl --fdr {2} --fc {3} '.format(CWLRUNNER, CWLTOOLS, fdr, fc)\n",
    "\n",
    "cmd_heatmap_header = '{0} {1}/R/dga_heatmaps.cwl --factor {2} --matrix {3} --gene_column Gene_Chr_Start --sample_column SampleID --fdr {4} --fc {5}'.format(\n",
    "        CWLRUNNER, CWLTOOLS, sample_table_file, matrix_file, fdr, fc)\n",
    "    \n",
    "log_suffix_union = 'union.log'\n",
    "    \n",
    "cmd_volcano_header = '{0} {1}/R/volcano_plot.cwl --fdr {2} --fc {3} '.format(CWLRUNNER, CWLTOOLS, fdr, fc)\n",
    "\n",
    "cmd_heatmap_header = '{0} {1}/R/dga_heatmaps.cwl --factor {2} --matrix {3} --gene_column Gene_Chr_Start --sample_column sample_name --fdr {4} --fc {5}'.format(\n",
    "        CWLRUNNER, CWLTOOLS, sample_table_file, matrix_file, fdr, fc)\n",
    "    \n",
    "\n",
    "for c in comparisons:\n",
    "    deseq2_df = pandas.read_csv('condition_{0}_vs_{1}_deseq2.csv'.format(c[0], c[1]))\n",
    "    edgeR_df = pandas.read_csv('condition_{0}_vs_{1}_edgeR.csv'.format(c[0], c[1]))\n",
    "    df = edgeR_df.merge(deseq2_df, left_on='Gene_Chr_Start', right_on='Gene_Id')\n",
    "    df = df.drop(['Gene_Chr_Start'], axis=1)\n",
    "    union_df = df[(df['FDR'] <= fdr) & (abs(df['logFC']) >= fc) & (df['padj'] <= fdr) & (abs(df['log2FoldChange']) >= fc)]\n",
    "    unifying_data = []\n",
    "    for i, r in df.iterrows():\n",
    "        if abs(r['logFC']) == r['logFC']:\n",
    "            logFC = min(float(r['logFC']), float(r['log2FoldChange']))\n",
    "        else:\n",
    "            logFC = max(float(r['logFC']), float(r['log2FoldChange']))\n",
    "        unifying_data.append({\n",
    "            'Gene_Id': r['Gene_Id'],\n",
    "            'FDR': max(float(r['FDR']), float(r['padj'])),\n",
    "            'logFC': logFC\n",
    "        })\n",
    "    unifying_data_df = pandas.DataFrame(unifying_data)\n",
    "    unifying_data_df = unifying_data_df[['Gene_Id', 'logFC', 'FDR']]\n",
    "    if len(unifying_data_df) > 0:\n",
    "        unifying_file = 'condition_{0}_vs_{1}_union.csv'.format(c[0], c[1])\n",
    "        unifying_data_df.to_csv(unifying_file, index=None)\n",
    "\n",
    "        over_df = unifying_data_df[(unifying_data_df['FDR'] <= fdr)&(unifying_data_df['logFC'] >= fc)]\n",
    "        over_df.to_csv('condition_{0}_vs_{1}_union_over-expressed.csv'.format(c[0], c[1]), index=None)\n",
    "        under_df = unifying_data_df[(unifying_data_df['FDR'] <= fdr)&(unifying_data_df['logFC'] <= -1.0 * fc)]\n",
    "        under_df.to_csv('condition_{0}_vs_{1}_union_under-expressed.csv'.format(c[0], c[1]), index=None)\n",
    "\n",
    "        print(\"Genes with FDR <= %.2f and logFC >= %.2f: %d\" % (fdr, fc, len(over_df)))\n",
    "        print(\"Genes with FDR <= %.2f and logFC <= -%.2f: %d\" % (fdr, fc, len(under_df)))\n",
    "\n",
    "        log_file = '{}_vs_{}_volcano_{}'.format(c[0], c[1], log_suffix_union)\n",
    "        cmd = '{0} --data {1} --out condition_{2}_vs_{3}_union_volcano.pdf > {4} 2>&1\\n'.format(\n",
    "            cmd_volcano_header, unifying_file,c[0], c[1], log_file)\n",
    "        run_command(cmd)\n",
    "        check_cwl_command_log(log_file)\n",
    "        \n",
    "        log_file = '{}_vs_{}_heatmap_{}'.format(c[0], c[1], log_suffix_union)\n",
    "        cmd = '{0} --dga_data {1} --out_expression {2} --out_correlation {3} --out_pca {4} > {5} 2>&1\\n'.format(\n",
    "            cmd_heatmap_header, unifying_file,\n",
    "            'condition_{0}_vs_{1}_union_expression_heatmap.pdf'.format(c[0], c[1]),\n",
    "            'condition_{0}_vs_{1}_union_correlation_heatmap.pdf'.format(c[0], c[1]),\n",
    "            'condition_{0}_vs_{1}_union_pca.pdf'.format(c[0], c[1]),\n",
    "            log_file)\n",
    "        run_command(cmd)\n",
    "        check_cwl_command_log(log_file)    "
   ]
  }
 ],
 "metadata": {
  "kernelspec": {
   "display_name": "Python 3",
   "language": "python",
   "name": "python3"
  },
  "language_info": {
   "codemirror_mode": {
    "name": "ipython",
    "version": 3
   },
   "file_extension": ".py",
   "mimetype": "text/x-python",
   "name": "python",
   "nbconvert_exporter": "python",
   "pygments_lexer": "ipython3",
   "version": "3.7.3"
  }
 },
 "nbformat": 4,
 "nbformat_minor": 1
}