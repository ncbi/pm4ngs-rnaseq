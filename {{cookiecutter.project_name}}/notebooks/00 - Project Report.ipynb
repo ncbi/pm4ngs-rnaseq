{
 "cells": [
  {
   "cell_type": "markdown",
   "source": [
    "# Project Report\n",
    " \n",
    "__Project Name__: {{ cookiecutter.project_name }}  \n",
    "__Dataset Name__: {{ cookiecutter.dataset_name }}  \n",
    "__Author__: {{ cookiecutter.author_name }}  \n",
    "__Email__: {{ cookiecutter.email }}  \n",
    "__Dataset__: {{ cookiecutter.dataset_name }}  \n",
    "__Created Date__: {% now 'local', '%d/%m/%Y' %}  \n",
    "\n",
    "## Outline\n",
    "\n",
    "This is a Differential Gene Expression Analysis workflow for RNASeq data\n",
    "\n",
    "Our workflow is based on a set of Jupyter Notebooks and [CWL workflows](https://github.com/ncbi/cwl-ngs-workflows-cbb). \n",
    "The workflows excuted the analysis using the following tools: \n",
    "\n",
    " * FastQC, for pre-processing quality control\n",
    " * Trimmomatic, for reads trimming\n",
    " * STAR, for reads alignment\n",
    " * RSeQC, for alignment quality control\n",
    " * TPMCalculator, for mRNA abundance quantification\n",
    " * Deseq2, for DGA\n",
    " * EdgeR, for DGA\n",
    "\n",
    "### Workflow  steps\n",
    "\n",
    " 1. [Pre-processing QC](#1.-Pre-processing-QC)\n",
    " 2. [Trimming](#2.-Trimming)\n",
    " 3. [Alignments and Quantification](#3.-Alignments-and-Quantification)\n",
    "     - [Alignment Quality Control](#3.1-Alignment-QC)\n",
    "     - [Quantification](#3.2.-Quantification)\n",
    " 4. [Differential Gene Expression Analysis](#5.-Differential-Gene-Expression-Analysis)\n",
    " 5. [GO enrichment](#6.-GO-enrichment)\n",
    " \n",
    "### Requirements\n",
    "\n",
    " 1. PM4NGS\n",
    " 2. Poppler (https://poppler.freedesktop.org/)\n",
    " 3. Full list of requirements *requirements/conda-env-dependencies.yaml*\n",
    "{% if cookiecutter.use_docker == 'y' %}\n",
    " 4. Docker\n",
    "{% endif %}   "
   ],
   "metadata": {
    "collapsed": false
   }
  },
  {
   "cell_type": "code",
   "execution_count": null,
   "outputs": [],
   "source": [
    "%run ../config/init.py\n",
    "from pm4ngs.jupyterngsplugin.markdown.fastqc import fastqc_table, fastqc_trimmomatic_table\n",
    "from pm4ngs.jupyterngsplugin.markdown.alignment import alignment_table\n",
    "from pm4ngs.jupyterngsplugin.markdown.alignment import reads_distribution_plot\n",
    "from pm4ngs.jupyterngsplugin.markdown.rnaseq.quantification import tpmcalculator_distribution_plot\n",
    "from pm4ngs.jupyterngsplugin.markdown.rnaseq.dga import dga_table, dga_gene_list_intersection\n",
    "from pm4ngs.jupyterngsplugin.markdown.rnaseq.go import go_plots_table, go_html_table\n",
    "from pm4ngs.jupyterngsplugin.markdown.rseqc import rseqc_table\n",
    "from pm4ngs.jupyterngsplugin.markdown.rseqc import rseqc_plot_table\n",
    "from pm4ngs.jupyterngsplugin.markdown.utils import hide_code_str\n",
    "from pm4ngs.jupyterngsplugin.markdown.utils import info_table\n",
    "from pm4ngs.jupyterngsplugin.utils.notebook import save_2_html\n",
    "HTML(hide_code_str())"
   ],
   "metadata": {
    "collapsed": false,
    "pycharm": {
     "name": "#%%\n"
    }
   }
  },
  {
   "cell_type": "markdown",
   "source": [
    "## 1. Pre-processing QC"
   ],
   "metadata": {
    "collapsed": false
   }
  },
  {
   "cell_type": "code",
   "execution_count": null,
   "outputs": [],
   "source": [
    "data_dir = os.path.join(DATA, DATASET)\n",
    "os.chdir(data_dir)\n",
    "samples = [ f.replace('.fastq.gz','') for ds,dr,fs in os.walk('./') for f in fs if f.endswith('.fastq.gz')]\n",
    "samples.sort()\n",
    "\n",
    "os.chdir(NOTEBOOKS)\n",
    "display(Markdown(info_table('01 - Pre-processing QC', data_dir)))\n",
    "\n",
    "str_msg = '#### FastQC report\\n'\n",
    "display(Markdown(str_msg))\n",
    "samples_data, str_msg =  fastqc_table(samples, \n",
    "                                      os.path.join(DATA, DATASET),\n",
    "                                      os.path.join(DATA, DATASET))\n",
    "display(Markdown(str_msg))\n",
    "del str_msg"
   ],
   "metadata": {
    "collapsed": false,
    "pycharm": {
     "name": "#%%\n"
    }
   }
  },
  {
   "cell_type": "markdown",
   "source": [
    "## 2. Trimming"
   ],
   "metadata": {
    "collapsed": false
   }
  },
  {
   "cell_type": "code",
   "execution_count": null,
   "outputs": [],
   "source": [
    "os.chdir(NOTEBOOKS)\n",
    "result_dir = os.path.join(RESULTS, DATASET, 'trimmomatic')\n",
    "display(Markdown(info_table('02 - Samples trimming', result_dir)))\n",
    "\n",
    "samples_data, str_msg =  fastqc_trimmomatic_table(samples_data, samples, result_dir)\n",
    "\n",
    "display(Markdown(str_msg))\n",
    "del str_msg"
   ],
   "metadata": {
    "collapsed": false,
    "pycharm": {
     "name": "#%%\n"
    }
   }
  },
  {
   "cell_type": "markdown",
   "source": [
    "## 3. Alignments and Quantification"
   ],
   "metadata": {
    "collapsed": false
   }
  },
  {
   "cell_type": "code",
   "execution_count": null,
   "outputs": [],
   "source": [
    "os.chdir(NOTEBOOKS)\n",
    "result_dir = os.path.join(RESULTS, DATASET, 'alignments')\n",
    "display(Markdown(info_table('03 - Alignments and Quantification', result_dir)))\n",
    "display(Markdown('### Reference genome\\n**{{ cookiecutter.genome_name }}**\\n\\n'))\n",
    "\n",
    "samples = [ f.replace('_sorted.bam', '') for ds,dr,fs in os.walk(os.path.join(RESULTS, DATASET, 'alignments')) for f in fs if f.endswith('_sorted.bam')]\n",
    "{% if cookiecutter.sequencing_technology == 'paired-end' %}\n",
    "method = 'STAR_paired'\n",
    "{% else %}\n",
    "method = 'STAR_single'\n",
    "{% endif %}\n",
    "samples_data, str_msg = alignment_table(samples_data, samples, \n",
    "                                        os.path.join(RESULTS, DATASET, 'alignments'), method)\n",
    "display(Markdown(str_msg))\n",
    "del str_msg\n",
    "\n",
    "reads_distribution_plot(samples_data, samples,(18,6), method)\n",
    "plt.show()\n",
    "plt.close()"
   ],
   "metadata": {
    "collapsed": false,
    "pycharm": {
     "name": "#%%\n"
    }
   }
  },
  {
   "cell_type": "markdown",
   "source": [
    "## 3.1. Alignment-QC"
   ],
   "metadata": {
    "collapsed": false
   }
  },
  {
   "cell_type": "code",
   "execution_count": null,
   "outputs": [],
   "source": [
    "os.chdir(NOTEBOOKS)\n",
    "str_msg = '### RSeQC BAM Stats\\n\\n'\n",
    "display(Markdown(str_msg))\n",
    "str_msg = rseqc_table(samples, os.path.join(RESULTS, DATASET, 'alignments'))\n",
    "display(Markdown(str_msg))\n",
    "del str_msg"
   ],
   "metadata": {
    "collapsed": false,
    "pycharm": {
     "name": "#%%\n"
    }
   }
  },
  {
   "cell_type": "code",
   "execution_count": null,
   "outputs": [],
   "source": [
    "img_size = 350\n",
    "str_msg = '### RSeQC PDF plots\\n\\n'\n",
    "display(Markdown(str_msg))\n",
    "\n",
    "str_msg = rseqc_plot_table(samples, os.path.join(RESULTS, DATASET, 'alignments'),\n",
    "                          img_size, img_size)\n",
    "display(Markdown(str_msg))\n",
    "del str_msg"
   ],
   "metadata": {
    "collapsed": false,
    "pycharm": {
     "name": "#%%\n"
    }
   }
  },
  {
   "cell_type": "markdown",
   "source": [
    "## 3.2. Quantification"
   ],
   "metadata": {
    "collapsed": false
   }
  },
  {
   "cell_type": "code",
   "execution_count": null,
   "outputs": [],
   "source": [
    "os.chdir(NOTEBOOKS)\n",
    "display(Markdown(\"### Exon TPM and reads distribution per sample\"))\n",
    "output_suffix = \"_sorted_genes.out\"\n",
    "columns = ['ExonTPM', 'ExonReads']\n",
    "for c in columns:\n",
    "    tpmcalculator_distribution_plot(c, \n",
    "                                os.path.join(RESULTS, DATASET, 'alignments'), \n",
    "                                output_suffix, (10,12))\n",
    "plt.show()\n",
    "plt.close()"
   ],
   "metadata": {
    "collapsed": false,
    "pycharm": {
     "name": "#%%\n"
    }
   }
  },
  {
   "cell_type": "markdown",
   "source": [
    "## 4. Differential Gene Expression Analysis"
   ],
   "metadata": {
    "collapsed": false
   }
  },
  {
   "cell_type": "code",
   "execution_count": null,
   "outputs": [],
   "source": [
    "os.chdir(NOTEBOOKS)\n",
    "result_dir = os.path.join(RESULTS, DATASET, 'dga')\n",
    "display(Markdown(info_table('04 - DGA', result_dir)))\n",
    "\n",
    "tools = {\n",
    "    'deseq2':'Deseq2',\n",
    "    'edgeR': 'EdgeR',\n",
    "    'intersection': 'Intersection'\n",
    "}\n",
    "\n",
    "t = next(iter(tools))\n",
    "conditions = [ f.replace('condition_','').replace('_' + t +'.csv','')  for d,ds,files in os.walk(result_dir) for f in files if '_' + t +'.csv' in f ]\n",
    "conditions.sort()\n",
    "\n",
    "img_size = 350\n",
    "str_msg = '### Plots\\n\\n'\n",
    "display(Markdown(str_msg))\n",
    "str_msg = dga_table(conditions, tools, result_dir, img_size, img_size)\n",
    "display(Markdown(str_msg))\n",
    "del str_msg\n",
    "\n",
    "str_msg = '### Cutoff:\\n\\n'\n",
    "str_msg += \"logFC: {:.3f}\".format(fc) + '\\n\\n'\n",
    "str_msg += \"FDR {:.3e}\".format(fdr) + '\\n\\n'\n",
    "display(Markdown(str_msg))\n",
    "\n",
    "str_msg = dga_gene_list_intersection(conditions, result_dir, '{{ cookiecutter.organism}}')\n",
    "        \n",
    "display(Markdown(str_msg))\n",
    "        \n",
    "del str_msg"
   ],
   "metadata": {
    "collapsed": false,
    "pycharm": {
     "name": "#%%\n"
    }
   }
  },
  {
   "cell_type": "markdown",
   "source": [
    "## 5. GO enrichment"
   ],
   "metadata": {
    "collapsed": false
   }
  },
  {
   "cell_type": "code",
   "execution_count": null,
   "outputs": [],
   "source": [
    "os.chdir(NOTEBOOKS)\n",
    "result_dir = os.path.join(RESULTS, DATASET, 'go')\n",
    "display(Markdown(info_table('05 - GO enrichment', result_dir)))\n",
    "\n",
    "img_size = 350\n",
    "str_msg = go_plots_table(conditions, result_dir, img_size, img_size)    \n",
    "display(Markdown(str_msg))\n",
    "\n",
    "str_msg = go_html_table(conditions, result_dir)\n",
    "display(Markdown(str_msg))\n",
    "del str_msg"
   ],
   "metadata": {
    "collapsed": false,
    "pycharm": {
     "name": "#%%\n"
    }
   }
  },
  {
   "cell_type": "code",
   "execution_count": null,
   "outputs": [],
   "source": [
    "os.chdir(NOTEBOOKS)\n",
    "save_2_html(\"00 - Project Report.ipynb\")"
   ],
   "metadata": {
    "collapsed": false,
    "pycharm": {
     "name": "#%%\n"
    }
   }
  }
 ],
 "metadata": {
  "kernelspec": {
   "display_name": "Python 3",
   "language": "python",
   "name": "python3"
  },
  "language_info": {
   "codemirror_mode": {
    "name": "ipython",
    "version": 3
   },
   "file_extension": ".py",
   "mimetype": "text/x-python",
   "name": "python",
   "nbconvert_exporter": "python",
   "pygments_lexer": "ipython3",
   "version": "3.7.3"
  }
 },
 "nbformat": 4,
 "nbformat_minor": 2
}